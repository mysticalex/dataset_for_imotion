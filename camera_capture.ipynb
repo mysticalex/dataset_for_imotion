{
  "nbformat": 4,
  "nbformat_minor": 0,
  "metadata": {
    "colab": {
      "provenance": []
    },
    "kernelspec": {
      "name": "python3",
      "display_name": "Python 3"
    },
    "language_info": {
      "name": "python"
    }
  },
  "cells": [
    {
      "cell_type": "code",
      "execution_count": null,
      "metadata": {
        "id": "lbteuRXtXrwd"
      },
      "outputs": [],
      "source": [
        "import cv2 as cv\n",
        "import os"
      ]
    },
    {
      "cell_type": "code",
      "source": [
        "#argument 0 is given to use the default camera of the laptop\n",
        "camera = cv.VideoCapture(0)\n",
        "#Now check if the camera object is created successfully\n",
        "if not camera.isOpened():\n",
        "    print(\"The Camera is not Opened....Exiting\")\n",
        "    exit()"
      ],
      "metadata": {
        "colab": {
          "base_uri": "https://localhost:8080/"
        },
        "id": "8KyVb0orYwfp",
        "outputId": "d4ec973c-2792-47b5-a443-b27a6b24a7b7"
      },
      "execution_count": null,
      "outputs": [
        {
          "output_type": "stream",
          "name": "stdout",
          "text": [
            "The Camera is not Opened....Exiting\n"
          ]
        }
      ]
    },
    {
      "cell_type": "code",
      "source": [
        "#creating a list of lables \"You could add as many you want\"\n",
        "Labels = ['angry', 'surprise','happy','sad','neutral','disgust','fear']\n",
        "#Now create folders for each label to store images\n",
        "for label in Labels:\n",
        "    if not os.path.exists(label):\n",
        "        os.mkdir(label)"
      ],
      "metadata": {
        "id": "RnvoDuEkY0Cm"
      },
      "execution_count": null,
      "outputs": []
    },
    {
      "cell_type": "code",
      "source": [
        "for folder in Labels:\n",
        "    #using count variable to name the images in the dataset.\n",
        "    count = 0\n",
        "    #Taking input to start the capturing\n",
        "    print(\"Press 's' to start data collection for\"+folder)\n",
        "    userinput = input()\n",
        "    if userinput != 's':\n",
        "        print(\"Wrong Input..........\")\n",
        "        exit()\n",
        "    #clicking 200 images per label, you could change as you want.    \n",
        "    while count<10:\n",
        "        #read returns two values one is the exit code and other is the frame\n",
        "        status, frame = camera.read()\n",
        "        #check if we get the frame or not\n",
        "        if not status:\n",
        "            print(\"Frame is not been captured..Exiting...\")\n",
        "            break\n",
        "        #convert the image into gray format for fast caculation\n",
        "        gray = cv.cvtColor(frame, cv.COLOR_BGR2GRAY)\n",
        "        #display window with gray image\n",
        "        cv.imshow(\"Video Window\",gray)\n",
        "        #resizing the image to store it\n",
        "        #gray = cv.resize(gray, (48,48))\n",
        "        #Store the image to specific label folder\n",
        "        cv.imwrite(folder+'/img'+str(count)+'.png',gray)\n",
        "        count=count+1\n",
        "        #to quite the display window press 'q'\n",
        "        if cv.waitKey(1) == ord('q'):\n",
        "            break\n",
        "# When everything done, release the capture\n",
        "camera.release()\n",
        "cv.destroyAllWindows()"
      ],
      "metadata": {
        "id": "ZHpkEwc7Y9AM"
      },
      "execution_count": null,
      "outputs": []
    }
  ]
}